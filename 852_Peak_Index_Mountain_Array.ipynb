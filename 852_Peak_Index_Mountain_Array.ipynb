{
 "cells": [
  {
   "cell_type": "markdown",
   "metadata": {},
   "source": [
    "Let's call an array arr a **mountain** if the following properties hold:\n",
    "\n",
    "1. arr.length >= 3\n",
    "2. There exists some i with 0 < i < arr.length - 1 such that:\n",
    "\n",
    "    arr[0] < arr[1] < ... arr[i-1] < arr[i]\n",
    "    \n",
    "    arr[i] > arr[i+1] > ... > arr[arr.length - 1]\n",
    "\n",
    "\n",
    "Given an integer array arr that is guaranteed to be a mountain, return any i such that arr[0] < arr[1] < ... arr[i - 1] < arr[i] > arr[i + 1] > ... > arr[arr.length - 1].\n",
    "\n",
    "## Example\n",
    "\n",
    "Input: arr = [0,10,5,2]\n",
    "Output: 1"
   ]
  },
  {
   "cell_type": "code",
   "execution_count": 41,
   "metadata": {},
   "outputs": [],
   "source": [
    "from typing import List\n",
    "class Solution:\n",
    "    def peakIndexInMountainArray(self, arr: List[int]) -> int:\n",
    "        upperB = len(arr)-1\n",
    "        lowerB = 0\n",
    "        while lowerB <= upperB:\n",
    "            midP = (upperB+lowerB)//2\n",
    "            potentialPeak = arr[midP]\n",
    "            potentialLeftDrop = arr[midP - 1]\n",
    "            potentialRightDrop = arr[midP + 1]\n",
    "            print(f\"Potential Left: {potentialLeftDrop}\\n\", f\"Potential Peak: {potentialPeak}\\n\",f\" Potential Right: {potentialRightDrop}\")\n",
    "            if potentialLeftDrop < potentialPeak > potentialRightDrop:\n",
    "                return midP\n",
    "            if potentialRightDrop > potentialPeak:\n",
    "                lowerB = midP + 1\n",
    "            else:\n",
    "                upperB = midP - 1\n",
    "            print(f\"lower bound: {lowerB} \\n upper bound: {upperB}\")\n",
    "        #actually a much more concicse version that is slower\n",
    "        #return arr.index(max(arr))"
   ]
  },
  {
   "cell_type": "code",
   "execution_count": 43,
   "metadata": {},
   "outputs": [
    {
     "name": "stdout",
     "output_type": "stream",
     "text": [
      "Potential Left: 3\n",
      " Potential Peak: 4\n",
      "  Potential Right: 5\n",
      "lower bound: 5 \n",
      " upper bound: 9\n",
      "Potential Left: 4\n",
      " Potential Peak: 3\n",
      "  Potential Right: 2\n",
      "lower bound: 5 \n",
      " upper bound: 6\n",
      "Potential Left: 4\n",
      " Potential Peak: 5\n",
      "  Potential Right: 4\n"
     ]
    },
    {
     "data": {
      "text/plain": [
       "5"
      ]
     },
     "execution_count": 43,
     "metadata": {},
     "output_type": "execute_result"
    }
   ],
   "source": [
    "arr = [0,1,2,3,4,5,4,3,2,1]\n",
    "temp = Solution()\n",
    "temp.peakIndexInMountainArray(arr)"
   ]
  }
 ],
 "metadata": {
  "interpreter": {
   "hash": "e7370f93d1d0cde622a1f8e1c04877d8463912d04d973331ad4851f04de6915a"
  },
  "kernelspec": {
   "display_name": "Python 3.10.2 64-bit",
   "language": "python",
   "name": "python3"
  },
  "language_info": {
   "codemirror_mode": {
    "name": "ipython",
    "version": 3
   },
   "file_extension": ".py",
   "mimetype": "text/x-python",
   "name": "python",
   "nbconvert_exporter": "python",
   "pygments_lexer": "ipython3",
   "version": "3.10.4"
  },
  "orig_nbformat": 4
 },
 "nbformat": 4,
 "nbformat_minor": 2
}
