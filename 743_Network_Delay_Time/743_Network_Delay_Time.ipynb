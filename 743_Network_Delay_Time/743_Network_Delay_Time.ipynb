{
 "cells": [
  {
   "cell_type": "markdown",
   "metadata": {},
   "source": [
    "You are given a network of n nodes, labeled from 1 to n. You are also given times, a list of travel times as directed edges times[i] = (ui, vi, wi), where ui is the source node, vi is the target node, and wi is the time it takes for a signal to travel from source to target.\n",
    "\n",
    "We will send a signal from a given node k. Return the time it takes for all the n nodes to receive the signal. If it is impossible for all the n nodes to receive the signal, return -1.\n",
    "\n",
    "- u_i = starting node\n",
    "- v_i = ending node\n",
    "- w_i = weight"
   ]
  },
  {
   "cell_type": "markdown",
   "metadata": {},
   "source": [
    "preliminary solutions:\n",
    "\n",
    "heap sort\n",
    "    - create a list that consists of the enumeration from 1 to n, in which elements are removed as they are encountered\n",
    "    - if there is any leftover if the target node is not found, then we return -1\n",
    "    "
   ]
  },
  {
   "cell_type": "code",
   "execution_count": 1,
   "metadata": {},
   "outputs": [],
   "source": [
    "from typing import List\n",
    "from collections import defaultdict\n",
    "import heapq\n",
    "class Solution:\n",
    "    def networkDelayTime(self, times: List[List[int]], n: int, k: int) -> int:\n",
    "        #First we need to create a list of our adjacency relationships to check.\n",
    "        #In a language like C++, we would create a map\n",
    "        adjacencyList = defaultdict(list)\n",
    "        \n",
    "        #We'll populate our map with our list relationships \n",
    "        for u_i,v_i,w_i in times:\n",
    "            adjacencyList[u_i].append((w_i, v_i))\n",
    "        \n",
    "        #We want to make sure that we have a unique list of elements that corrospond to our visited nodes\n",
    "        #and the set() object is basically a list that only stores unique elements\n",
    "        visited=set()\n",
    "\n",
    "        #We'll initiallize our heap with a list of a zero weight to our starting node k. We do this because\n",
    "        #we will be popping from this as we explore our node relations and we want our starting node to be the node\n",
    "        #we compare with our adjacency list first\n",
    "        heap = [(0, k)]\n",
    "\n",
    "        #our searching will occur in this loop that \n",
    "        while heap:\n",
    "            \n",
    "            #since every iteration involves us popping from our heap, it make sense to make our halt condition\n",
    "            #an empty heap since that will imply there are no more nodes we are connected to\n",
    "            travel_time, node = heapq.heappop(heap)\n",
    "\n",
    "            #reminder: this a set so adding an element that is already there will do nothing\n",
    "            visited.add(node)\n",
    "\n",
    "            #this is a separate halting condition that procs when we have visited every node.  This is our \n",
    "            #intended halting condition because a full visited list implies we've visited every list and\n",
    "            #we can sum up our weights, which is just travel_time\n",
    "            if len(visited)==n:\n",
    "                return travel_time\n",
    "\n",
    "            #here we iterate through each relation indexed to our key (aka node) and see if any of them\n",
    "            #have been visited\n",
    "            for time, adjacent_node in adjacencyList[node]:\n",
    "\n",
    "                #if we have a new node, we will add a new element to our now empty heap that changes the\n",
    "                #target node to the current adjacent node paired with the current travel time plus the \n",
    "                #time in the adjancy list associated with the relationship\n",
    "                if adjacent_node not in visited:\n",
    "                    heapq.heappush(heap, (travel_time+time, adjacent_node))\n",
    "        \n",
    "        #if our previous halting condition never occurs (aka when the length of the set 'visited') never\n",
    "        #reaches n, then there is no edge in our adjacency list left to iterate over such that we can heappush \n",
    "        #another element into heap which means we didn't reach every node so we should return -1\n",
    "        return -1\n"
   ]
  }
 ],
 "metadata": {
  "interpreter": {
   "hash": "31f2aee4e71d21fbe5cf8b01ff0e069b9275f58929596ceb00d14d90e3e16cd6"
  },
  "kernelspec": {
   "display_name": "Python 3.8.10 64-bit",
   "language": "python",
   "name": "python3"
  },
  "language_info": {
   "codemirror_mode": {
    "name": "ipython",
    "version": 3
   },
   "file_extension": ".py",
   "mimetype": "text/x-python",
   "name": "python",
   "nbconvert_exporter": "python",
   "pygments_lexer": "ipython3",
   "version": "3.8.10"
  },
  "orig_nbformat": 4
 },
 "nbformat": 4,
 "nbformat_minor": 2
}
