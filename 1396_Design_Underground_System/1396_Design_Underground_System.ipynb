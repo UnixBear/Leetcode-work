{
 "cells": [
  {
   "cell_type": "markdown",
   "metadata": {},
   "source": [
    "An underground railway system is keeping track of customer travel times between different stations. They are using this data to calculate the average time it takes to travel from one station to another.\n",
    "\n",
    "Implement the UndergroundSystem class:\n",
    "\n",
    "    void checkIn(int id, string stationName, int t)\n",
    "        A customer with a card ID equal to id, checks in at the station stationName at time t.\n",
    "        A customer can only be checked into one place at a time.\n",
    "    void checkOut(int id, string stationName, int t)\n",
    "        A customer with a card ID equal to id, checks out from the station stationName at time t.\n",
    "    double getAverageTime(string startStation, string endStation)\n",
    "        Returns the average time it takes to travel from startStation to endStation.\n",
    "        The average time is computed from all the previous traveling times from startStation to endStation that happened directly, meaning a check in at startStation followed by a check out from endStation.\n",
    "        The time it takes to travel from startStation to endStation may be different from the time it takes to travel from endStation to startStation.\n",
    "        There will be at least one customer that has traveled from startStation to endStation before getAverageTime is called.\n",
    "\n",
    "You may assume all calls to the checkIn and checkOut methods are consistent. If a customer checks in at time t1 then checks out at time t2, then t1 < t2. All events happen in chronological order.\n"
   ]
  },
  {
   "cell_type": "markdown",
   "metadata": {},
   "source": [
    "# Example 1:\n",
    "\n",
    " ## Input\n",
    "[\"UndergroundSystem\",\"checkIn\",\"checkIn\",\"checkIn\",\"checkOut\",\"checkOut\",\"checkOut\",\"getAverageTime\",\"getAverageTime\",\"checkIn\",\"getAverageTime\",\"checkOut\",\"getAverageTime\"]\n",
    "[[],[45,\"Leyton\",3],[32,\"Paradise\",8],[27,\"Leyton\",10],[45,\"Waterloo\",15],[27,\"Waterloo\",20],[32,\"Cambridge\",22],[\"Paradise\",\"Cambridge\"],[\"Leyton\",\"Waterloo\"],[10,\"Leyton\",24],[\"Leyton\",\"Waterloo\"],[10,\"Waterloo\",38],[\"Leyton\",\"Waterloo\"]]\n",
    "\n",
    "## Output\n",
    "[null,null,null,null,null,null,null,14.00000,11.00000,null,11.00000,null,12.00000]\n",
    "\n",
    "## Explanation\n",
    "    UndergroundSystem undergroundSystem = new UndergroundSystem();\n",
    "\n",
    "    undergroundSystem.checkIn(45, \"Leyton\", 3);\n",
    "\n",
    "    undergroundSystem.checkIn(32, \"Paradise\", 8);\n",
    "\n",
    "    undergroundSystem.checkIn(27, \"Leyton\", 10);\n",
    "\n",
    "    undergroundSystem.checkOut(45, \"Waterloo\", 15);  // Customer 45 \"Leyton\" -> \"Waterloo\" in 15-3 = 12\n",
    "\n",
    "    undergroundSystem.checkOut(27, \"Waterloo\", 20);  // Customer 27 \"Leyton\" -> \"Waterloo\" in 20-10 = 10\n",
    "\n",
    "    undergroundSystem.checkOut(32, \"Cambridge\", 22); // Customer 32 \"Paradise\" -> \"Cambridge\" in 22-8 = 14\n",
    "\n",
    "    undergroundSystem.getAverageTime(\"Paradise\", \"Cambridge\"); // return 14.00000. One trip \"Paradise\" -> \"Cambridge\", (14) / 1 = 14\n",
    "\n",
    "    undergroundSystem.getAverageTime(\"Leyton\", \"Waterloo\");    // return 11.00000. Two trips \"Leyton\" -> \"Waterloo\", (10 + 12) / 2 = 11\n",
    "\n",
    "    undergroundSystem.checkIn(10, \"Leyton\", 24);\n",
    "\n",
    "    undergroundSystem.getAverageTime(\"Leyton\", \"Waterloo\");    // return 11.00000\n",
    "\n",
    "    undergroundSystem.checkOut(10, \"Waterloo\", 38);  // Customer 10 \"Leyton\" -> \"Waterloo\" in 38-24 = 14\n",
    "\n",
    "    undergroundSystem.getAverageTime(\"Leyton\", \"Waterloo\");    // return 12.00000. Three trips \"Leyton\" -> \"Waterloo\", (10 + 12 + 14) / 3 = 12\n"
   ]
  },
  {
   "cell_type": "markdown",
   "metadata": {},
   "source": [
    "Constraints:\n",
    "\n",
    "    1 <= id, t <= 106\n",
    "    1 <= stationName.length, startStation.length, endStation.length <= 10\n",
    "    All strings consist of uppercase and lowercase English letters and digits.\n",
    "    There will be at most 2 * 104 calls in total to checkIn, checkOut, and getAverageTime.\n",
    "    Answers within 10-5 of the actual value will be accepted.\n",
    "\n"
   ]
  },
  {
   "cell_type": "code",
   "execution_count": 4,
   "metadata": {},
   "outputs": [],
   "source": [
    "class UndergroundSystem:\n",
    "    \n",
    "    #Our plan of attack will be to keep a ledger tracking the passengers that will\n",
    "    #save when they join and then delete when they checkout, and when we remove them\n",
    "    #from the ledger, we will record the time differnce.\n",
    "\n",
    "    #In a separate ledger tracking stations, once we delete a passenger, we will\n",
    "    #update this ledger with a journey time, and a tracker of the number of\n",
    "    #successful check-in/check-outs to generate our average per journey.\n",
    "    #Each key in this ledger will not be per station, but instead of will \n",
    "    #generate a new entry once a passenger leaves that will be constituted\n",
    "    #by the check-in station and the checkout station.\n",
    "    def __init__(self):\n",
    "        #this will track our passengers as they check-in/check-out\n",
    "        #the scheme for this dictionary will be:\n",
    "        #   [passenger ID] = (station name, travel time)\n",
    "        self.passLedge = {}\n",
    "        \n",
    "        #this will track our intrastation times\n",
    "        #the scheme for this dictionary will be:\n",
    "        #   [tuple of two station names] = [total minutes for this combo, number of journeys]\n",
    "        self.stationsLedge = {}\n",
    "\n",
    "    def checkIn(self, id: int, stationName: str, t: int) -> None:\n",
    "        #making sure we don't already have the passenger checked in,\n",
    "        #we save in our passenger ledger the station paired with the time\n",
    "        #we store this in a tuple because we wont be changing this pair\n",
    "        if id not in self.passLedge.keys():\n",
    "            self.passLedge[id] = (stationName, t)\n",
    "        else: \n",
    "            print(\"chief, this non-gendered dude is already checked in, oof\")\n",
    "\n",
    "\n",
    "    def checkOut(self, id: int, stationName: str, t: int) -> None:\n",
    "        #we check to see if the person checking out is in our ledger\n",
    "        if id not in self.passLedge.keys():\n",
    "            print('who u trying 2 check out there buddy? capser???!')\n",
    "        \n",
    "        #otherwise, in our station pairs ledger, we create a new key\n",
    "        #called from our passenger's check in and our passed to\n",
    "        #station name so that it's always start -> finish.\n",
    "        else:\n",
    "            #we create a new station-pair in our station ledger that\n",
    "            #equals (checkin station, checkout station)\n",
    "            stationJourneyPair = (self.passLedge[id][0],stationName)\n",
    "\n",
    "            #if our station-pair isn't in our station ledger then we\n",
    "            #create a new key and pass it a list of the difference of \n",
    "            #the checkout - checkin times and a journey count of 1\n",
    "            if stationJourneyPair not in self.stationsLedge.keys():\n",
    "                self.stationsLedge[stationJourneyPair] = [t - self.passLedge[id][1], 1]\n",
    "            \n",
    "            #if we do already have this station pair in the ledger, we will update it\n",
    "            #by adding the new travel time and incrementing the journey counter by one\n",
    "            elif stationJourneyPair in self.stationsLedge.keys():\n",
    "                self.stationsLedge[stationJourneyPair][0] += (t - self.passLedge[id][1])\n",
    "                self.stationsLedge[stationJourneyPair][1] += 1\n",
    "\n",
    "            #now we must clean our passenger ledger since our checkin/checkout\n",
    "            #journey is complete\n",
    "            del self.passLedge[id]\n",
    "            \n",
    "\n",
    "    def getAverageTime(self, startStation: str, endStation: str) -> float:\n",
    "        stationsKey = (startStation, endStation)\n",
    "        if stationsKey not in self.stationsLedge:\n",
    "            print('ya let me just average NOTHING, NERD!!')\n",
    "        else:\n",
    "            return((self.stationsLedge[stationsKey][0])/self.stationsLedge[stationsKey][1])\n",
    "        \n",
    "\n",
    "\n",
    "# Your UndergroundSystem object will be instantiated and called as such:\n",
    "# obj = UndergroundSystem()\n",
    "# obj.checkIn(id,stationName,t)\n",
    "# obj.checkOut(id,stationName,t)\n",
    "# param_3 = obj.getAverageTime(startStation,endStation)"
   ]
  },
  {
   "cell_type": "code",
   "execution_count": 5,
   "metadata": {},
   "outputs": [
    {
     "data": {
      "text/plain": [
       "63.0"
      ]
     },
     "execution_count": 5,
     "metadata": {},
     "output_type": "execute_result"
    }
   ],
   "source": [
    "temp = UndergroundSystem()\n",
    "temp.checkIn(1,'deeznuts',1)\n",
    "temp.checkIn(2,'hehe town', 1)\n",
    "temp.checkOut(1,'fuckuville', 100)\n",
    "temp.checkOut(2,'oh god help', 50)\n",
    "temp.checkIn(3,'deeznuts', 3)\n",
    "temp.checkOut(3,'fuckuville', 30)\n",
    "temp.getAverageTime('deeznuts','fuckuville')"
   ]
  }
 ],
 "metadata": {
  "interpreter": {
   "hash": "31f2aee4e71d21fbe5cf8b01ff0e069b9275f58929596ceb00d14d90e3e16cd6"
  },
  "kernelspec": {
   "display_name": "Python 3.8.10 64-bit",
   "language": "python",
   "name": "python3"
  },
  "language_info": {
   "codemirror_mode": {
    "name": "ipython",
    "version": 3
   },
   "file_extension": ".py",
   "mimetype": "text/x-python",
   "name": "python",
   "nbconvert_exporter": "python",
   "pygments_lexer": "ipython3",
   "version": "3.8.10"
  },
  "orig_nbformat": 4
 },
 "nbformat": 4,
 "nbformat_minor": 2
}
