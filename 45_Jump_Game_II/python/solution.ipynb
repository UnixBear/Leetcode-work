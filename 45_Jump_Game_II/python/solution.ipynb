{
 "cells": [
  {
   "cell_type": "code",
   "execution_count": 7,
   "metadata": {},
   "outputs": [],
   "source": [
    "from typing import List\n",
    "class Solution:\n",
    "    def jump(self, nums: List[int]) -> int:\n",
    "        jumps = 0\n",
    "        currentReach = 0\n",
    "        nextReach = 0\n",
    "        destination = len(nums)-1\n",
    "        if destination == 0:\n",
    "            return 0\n",
    "        for index, value in enumerate(nums):\n",
    "            nextReach = max(nextReach, index+value)\n",
    "            if index == currentReach:\n",
    "                currentReach = nextReach\n",
    "                jumps += 1\n",
    "            if currentReach >= destination:\n",
    "                return jumps\n",
    "        return jumps\n"
   ]
  },
  {
   "cell_type": "code",
   "execution_count": 10,
   "metadata": {},
   "outputs": [
    {
     "name": "stdout",
     "output_type": "stream",
     "text": [
      "[1, 6, 10, 6, 9, 1, 1, 10, 10, 8]\n",
      "the value at 0 is 1\n",
      "the value at 1 is 6\n",
      "the value at 2 is 10\n",
      "the value at 3 is 6\n",
      "the value at 4 is 9\n",
      "the value at 5 is 1\n",
      "the value at 6 is 1\n",
      "the value at 7 is 10\n",
      "the value at 8 is 10\n",
      "the value at 9 is 8\n"
     ]
    }
   ],
   "source": [
    "import random\n",
    "test = Solution()\n",
    "temp = [random.randint(1,10) for _ in range(10)]\n",
    "print(temp)\n",
    "test.jump(temp)"
   ]
  },
  {
   "cell_type": "code",
   "execution_count": null,
   "metadata": {},
   "outputs": [],
   "source": []
  }
 ],
 "metadata": {
  "kernelspec": {
   "display_name": "Python 3",
   "language": "python",
   "name": "python3"
  },
  "language_info": {
   "codemirror_mode": {
    "name": "ipython",
    "version": 3
   },
   "file_extension": ".py",
   "mimetype": "text/x-python",
   "name": "python",
   "nbconvert_exporter": "python",
   "pygments_lexer": "ipython3",
   "version": "3.11.6"
  }
 },
 "nbformat": 4,
 "nbformat_minor": 2
}
