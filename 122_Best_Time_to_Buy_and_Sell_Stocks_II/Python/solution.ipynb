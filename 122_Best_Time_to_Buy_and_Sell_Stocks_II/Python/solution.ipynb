{
 "cells": [
  {
   "cell_type": "code",
   "execution_count": 5,
   "metadata": {},
   "outputs": [],
   "source": [
    "import unittest\n",
    "from typing import List\n",
    "class Solution:\n",
    "    def maxProfit(self, prices: List[int]) -> int:\n",
    "        profit = 0\n",
    "        for i in range(len(prices)-1):\n",
    "            if prices[i] < prices[i+1]:\n",
    "                profit += prices[i+1] - prices[i]\n",
    "        return profit\n",
    "\n",
    "class TestSolution(unittest.TestCase):\n",
    "    def test_func(self):\n",
    "        temp = Solution()\n",
    "        self.assertEqual(7, temp.maxProfit([7,1,5,3,6,4]), \"case 1 failure\")\n",
    "        self.assertEqual(0, temp.maxProfit([7,6,4,3,1]), \"case 2 failure\")\n",
    "        self.assertEqual(4, temp.maxProfit([1,2,3,4,5]), \"case 3 failure\")\n"
   ]
  },
  {
   "cell_type": "code",
   "execution_count": 7,
   "metadata": {},
   "outputs": [
    {
     "name": "stderr",
     "output_type": "stream",
     "text": [
      ".\n",
      "----------------------------------------------------------------------\n",
      "Ran 1 test in 0.006s\n",
      "\n",
      "OK\n"
     ]
    },
    {
     "data": {
      "text/plain": [
       "<unittest.runner.TextTestResult run=1 errors=0 failures=0>"
      ]
     },
     "execution_count": 7,
     "metadata": {},
     "output_type": "execute_result"
    }
   ],
   "source": [
    "test_suite = unittest.TestLoader().loadTestsFromTestCase(TestSolution)\n",
    "\n",
    "unittest.TextTestRunner().run(test_suite)"
   ]
  },
  {
   "cell_type": "code",
   "execution_count": null,
   "metadata": {},
   "outputs": [],
   "source": []
  }
 ],
 "metadata": {
  "kernelspec": {
   "display_name": "Python 3",
   "language": "python",
   "name": "python3"
  },
  "language_info": {
   "codemirror_mode": {
    "name": "ipython",
    "version": 3
   },
   "file_extension": ".py",
   "mimetype": "text/x-python",
   "name": "python",
   "nbconvert_exporter": "python",
   "pygments_lexer": "ipython3",
   "version": "3.11.6"
  }
 },
 "nbformat": 4,
 "nbformat_minor": 2
}
