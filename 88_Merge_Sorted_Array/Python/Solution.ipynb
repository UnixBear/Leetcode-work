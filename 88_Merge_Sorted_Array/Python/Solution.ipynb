{
 "cells": [
  {
   "cell_type": "code",
   "execution_count": 24,
   "metadata": {},
   "outputs": [],
   "source": [
    "class Solution:\n",
    "    def merge_and_shift(self, nums1, n, m, nums2):\n",
    "        # Indices for the last elements in nums1, nums2, and the merged array\n",
    "        i = m - 1  # Last index of the non-zero elements in nums1\n",
    "        j = len(nums2) - 1  # Last index in nums2\n",
    "        k = n - 1  # Last index of the merged array in nums1\n",
    "\n",
    "        # Merge nums2 into nums1 starting from the end\n",
    "        while j >= 0:\n",
    "            # If nums1 is exhausted or nums2 has a larger element\n",
    "            if i < 0 or nums2[j] > nums1[i]:\n",
    "                nums1[k] = nums2[j]\n",
    "                j -= 1\n",
    "            else:\n",
    "                nums1[k] = nums1[i]\n",
    "                i -= 1\n",
    "            k -= 1\n",
    "\n",
    "    def insert_into_array(self, nums1, n, m, target):\n",
    "        #set up the edges of a binary sort\n",
    "        left,right = 0, m-1\n",
    "\n",
    "        #start searching down our 'tree'\n",
    "        #as long as the small side stays less than or equal to our right side which\n",
    "        #starts out as the size of our smaller array, it will keep searching.\n",
    "        while left <= right:\n",
    "\n",
    "            #this gives us our midpoint leaf-index for seaching\n",
    "            mid = (left + right) // 2\n",
    "\n",
    "            #we check the array at the midpoint leaf to see where to go from here\n",
    "\n",
    "            #if it's less than the element from num2 that we're checking then we\n",
    "            #adjust our smaller bound to be the index of our middle + 1\n",
    "            if nums1[mid] < target:\n",
    "                left = mid+1\n",
    "\n",
    "            #if it's equal or greater than our element, we shrink our upper bound \n",
    "            else: right = mid-1\n",
    "\n",
    "        #here we shift from the end of the array to the right to avoid out-of-bounds issues\n",
    "        #we are making changes from our lower bound, which insures we get all possible indecies\n",
    "        #and overighting to the right\n",
    "        for i in range(m, left, -1):\n",
    "            nums1[i]=nums1[i-1]\n",
    "        \n",
    "        #after moving the section ahead of the index we will insert into, we overight the index\n",
    "        nums1[left]=target\n",
    "    def merge(self, nums1, m: int, nums2, n: int) -> None:\n",
    "        for num in nums2:\n",
    "            self.insert_into_array(nums1, n,m, num)\n",
    "            m += 1\n",
    "\n",
    "nums1 = [1, 2, 3, 0, 0, 0]\n",
    "n = len(nums1)\n",
    "nums2 = [2, 5, 6]\n",
    "m = 3  # Number of non-zero elements in nums1"
   ]
  },
  {
   "cell_type": "code",
   "execution_count": 15,
   "metadata": {},
   "outputs": [
    {
     "name": "stdout",
     "output_type": "stream",
     "text": [
      "3\n"
     ]
    },
    {
     "data": {
      "text/plain": [
       "[1, 2, 2, 3, 5, 6]"
      ]
     },
     "execution_count": 15,
     "metadata": {},
     "output_type": "execute_result"
    }
   ],
   "source": [
    "test = Solution()\n",
    "print(m)\n",
    "for num in nums2:\n",
    "    test.insert_into_array(nums1, n,m,num)\n",
    "    m += 1\n",
    "nums1"
   ]
  },
  {
   "cell_type": "code",
   "execution_count": 16,
   "metadata": {},
   "outputs": [
    {
     "data": {
      "text/plain": [
       "[6, 6, 6, 2, 5, 6]"
      ]
     },
     "execution_count": 16,
     "metadata": {},
     "output_type": "execute_result"
    }
   ],
   "source": [
    "test.merge_and_shift(nums1, n,m,nums2)\n",
    "nums1"
   ]
  },
  {
   "cell_type": "code",
   "execution_count": 68,
   "metadata": {},
   "outputs": [],
   "source": [
    "nums1 = [1, 2, 3, 0, 0, 0]\n",
    "n = 3\n",
    "nums2 = [2, 5, 6]\n",
    "m = 3  # Number of non-zero elements in nums1\n",
    "class Solution2:\n",
    "    def merge(self, nums1, m: int, nums2, n: int) -> None:\n",
    "        \n",
    "        #k will keep track of the location in nums1\n",
    "        k = len(nums1)-1\n",
    "        \n",
    "        \n",
    "        #we will decrement n and m and only stop when they're both 0\n",
    "        while m > 0 and n > 0:\n",
    "\n",
    "            \n",
    "            #debug, comment out when finished\n",
    "            print(nums1)\n",
    "            print(f\"k: {k} \\n m: {m} \\n n: {n}\")\n",
    "            \n",
    "            #we first check if the numbered subset of k's last element\n",
    "            #is greater than nums2's last element\n",
    "            if nums1[m-1] >= nums2[n-1]:\n",
    "                \n",
    "                #if this case is reached, then we want to reduce k so we\n",
    "                #only look at the smaller subset of equal/lesser numbers\n",
    "                #and we want to reduce the loop size\n",
    "                \n",
    "                #here we set the last element in nums1 from 0 to nums1[k]\n",
    "                #and we set the element prior to 0 so it always loses in\n",
    "                #comparison\n",
    "                nums1[k] = nums1[m-1]\n",
    "                m -=1\n",
    "                \n",
    "            #next we'll check if it loses in comparison to decrement num2\n",
    "            else:\n",
    "                nums1[k] = nums2[n-1]\n",
    "                n -= 1\n",
    "                \n",
    "            k -= 1\n",
    "            print(nums1)\n",
    "            print(\"\\n\")\n",
    "        \n",
    "        #for edge cases where m is already 0\n",
    "        while n > 0:\n",
    "            nums1[k] = nums2[n-1]\n",
    "            k -= 1\n",
    "            n -= 1\n",
    "        \n",
    "\n",
    "            \n",
    "            \n",
    "                \n"
   ]
  },
  {
   "cell_type": "code",
   "execution_count": 69,
   "metadata": {},
   "outputs": [
    {
     "name": "stdout",
     "output_type": "stream",
     "text": [
      "[1]\n"
     ]
    }
   ],
   "source": [
    "temp = Solution2()\n",
    "nums1=[0]\n",
    "m = 0\n",
    "nums2=[1]\n",
    "n = 1\n",
    "temp.merge(nums1, m, nums2, n)\n",
    "print(nums1)"
   ]
  },
  {
   "cell_type": "code",
   "execution_count": 71,
   "metadata": {},
   "outputs": [],
   "source": [
    "nums1 = [1, 2, 3, 0, 0, 0]\n",
    "m = 3 # Number of non-zero elements in nums1\n",
    "nums2 = [2, 5, 6]\n",
    "n = 3  #length of array\n",
    "class Solution3:\n",
    "    def merge(self, nums1, m: int, nums2, n: int) -> None:\n",
    "        for i in range(n):\n",
    "            nums1[m+i] = nums2[i]\n",
    "        nums1.sort()"
   ]
  },
  {
   "cell_type": "code",
   "execution_count": 72,
   "metadata": {},
   "outputs": [
    {
     "data": {
      "text/plain": [
       "[1, 2, 2, 3, 5, 6]"
      ]
     },
     "execution_count": 72,
     "metadata": {},
     "output_type": "execute_result"
    }
   ],
   "source": [
    "test3 = Solution3()\n",
    "test3.merge(nums1, m, nums2, n)\n",
    "nums1"
   ]
  },
  {
   "cell_type": "code",
   "execution_count": null,
   "metadata": {},
   "outputs": [],
   "source": []
  }
 ],
 "metadata": {
  "kernelspec": {
   "display_name": "Python 3",
   "language": "python",
   "name": "python3"
  },
  "language_info": {
   "codemirror_mode": {
    "name": "ipython",
    "version": 3
   },
   "file_extension": ".py",
   "mimetype": "text/x-python",
   "name": "python",
   "nbconvert_exporter": "python",
   "pygments_lexer": "ipython3",
   "version": "3.8.10"
  }
 },
 "nbformat": 4,
 "nbformat_minor": 2
}
