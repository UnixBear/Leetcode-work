{
 "cells": [
  {
   "cell_type": "code",
   "execution_count": 1,
   "metadata": {},
   "outputs": [],
   "source": [
    "from typing import List\n",
    "class Solution:\n",
    "    def fullJustify(self, words: List[str], maxWidth: int) -> List[str]:\n",
    "        res, cur, num_of_letters = [], [], 0\n",
    "        for w in words:\n",
    "            if num_of_letters + len(w) + len(cur) > maxWidth:\n",
    "                if len(cur) == 1:\n",
    "                    res.append(cur[0].ljust(maxWidth))\n",
    "                else:\n",
    "                    total_spaces = maxWidth - num_of_letters\n",
    "                    space_between_words, extra_spaces = divmod(total_spaces, len(cur) - 1)\n",
    "                    for i in range(extra_spaces):\n",
    "                        cur[i] += ' '\n",
    "                    res.append((' ' * space_between_words).join(cur))\n",
    "                cur, num_of_letters = [], 0\n",
    "            cur.append(w)\n",
    "            num_of_letters += len(w)\n",
    "        last_line = ' '.join(cur).ljust(maxWidth)\n",
    "        res.append(last_line)\n",
    "\n",
    "        return res"
   ]
  },
  {
   "cell_type": "code",
   "execution_count": 2,
   "metadata": {},
   "outputs": [
    {
     "data": {
      "text/plain": [
       "['This  is  an example', 'of              text', 'justification.      ']"
      ]
     },
     "execution_count": 2,
     "metadata": {},
     "output_type": "execute_result"
    }
   ],
   "source": [
    "test = Solution()\n",
    "temp = [\"This\", \"is\", \"an\", \"example\", \"of\", \"text\", \"justification.\"]\n",
    "test.fullJustify(temp, 20)"
   ]
  }
 ],
 "metadata": {
  "kernelspec": {
   "display_name": "Python 3",
   "language": "python",
   "name": "python3"
  },
  "language_info": {
   "codemirror_mode": {
    "name": "ipython",
    "version": 3
   },
   "file_extension": ".py",
   "mimetype": "text/x-python",
   "name": "python",
   "nbconvert_exporter": "python",
   "pygments_lexer": "ipython3",
   "version": "3.11.6"
  }
 },
 "nbformat": 4,
 "nbformat_minor": 2
}
