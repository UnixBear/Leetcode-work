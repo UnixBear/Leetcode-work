{
 "cells": [
  {
   "cell_type": "markdown",
   "metadata": {},
   "source": [
    "According to Wikipedia's article: \"The Game of Life, also known simply as Life, is a cellular automaton devised by the British mathematician John Horton Conway in 1970.\"\n",
    "\n",
    "The board is made up of an m x n grid of cells, where each cell has an initial state: live (represented by a 1) or dead (represented by a 0). Each cell interacts with its eight neighbors (horizontal, vertical, diagonal) using the following four rules (taken from the above Wikipedia article):\n",
    "\n",
    "Any live cell with fewer than two live neighbors dies as if caused by under-population.\n",
    "\n",
    "Any live cell with two or three live neighbors lives on to the next generation.\n",
    "\n",
    "Any live cell with more than three live neighbors dies, as if by over-population.\n",
    "\n",
    "Any dead cell with exactly three live neighbors becomes a live cell, as if by reproduction.\n",
    "\n",
    "The next state is created by applying the above rules simultaneously to every cell in the current state, where births and deaths occur simultaneously. Given the current state of the m x n grid board, return the next state."
   ]
  },
  {
   "cell_type": "code",
   "execution_count": 14,
   "metadata": {},
   "outputs": [],
   "source": [
    "from typing import List\n",
    "class Solution:\n",
    "    def gameOfLife(self, board: List[List[int]]) -> None:\n",
    "        \n",
    "        \"\"\"\n",
    "        Do not return anything, modify board in-place instead.\n",
    "        \"\"\"\n",
    "        #carDirections represents the cardinal directions plus diagonals\n",
    "        carDirections = [[1,0],[1,1],[0,1],[-1,1],[-1,0],[-1,-1],[0,-1],[1,-1]]\n",
    "        boardLen = len(board)\n",
    "        boardWid = len(board[0])\n",
    "        for row in range(boardLen):\n",
    "            for cell in range(boardWidth):\n",
    "                livingCheck = 0\n",
    "                #iterating through each direction on the cell\n",
    "                for dir in directions:\n",
    "                    newRow = row + dir[0]\n",
    "                    newCell = cell + dir[1]\n",
    "                    #checking we are still in the board after our operations\n",
    "                    if 0 <= newRow < boardLen & 0 <= newCell < boardWid & abs(board[row][cell]) == 1:\n",
    "                        livingCheck += 1\n",
    "\n",
    "                #now we start translating dying cells to -1 flags            \n",
    "                if board[row][cell] == 1:\n",
    "                    #if the cell is alive, then we consult livingCheck to see what rule it's sum fits into\n",
    "                    #since the sum represents the weight of neighbors\n",
    "                    if livingCheck <2 | livingCheck >3:\n",
    "                        board[row][cell] = -1\n",
    "                elif livingcheck == 3:\n",
    "                    #this checks if the cell is a candidate for reproduction\n",
    "                        board[row][cell]= 2\n",
    "        \n",
    "        #now we cleanup our flags into action\n",
    "        for row in range(boardLen):\n",
    "            for cell in range(boardWid):\n",
    "                if board[row][cell] == -1:\n",
    "                    board[row][cell]=0\n",
    "                elif board[row][cell] == 2:\n",
    "                    board[row][cell]=1\n",
    "    \n",
    "    '''\n",
    "    def checkUnderPop(self):\n",
    "        for rowInx, row in enumerate(board):\n",
    "\n",
    "            for cellInx, cell in enumerate(row):\n",
    "                total = 0\n",
    "                if cell != 0:\n",
    "                    try\n",
    "    leaving this behind as my first attempt, which would have been summing up using the index from enumerate and a different\n",
    "    function to check around it, but without a clear way of flagging dead cells\n",
    "    '''\n",
    "\n",
    "\n",
    "#\n",
    "# Significant help provided by this post, specifically an idea of presetting the conditions in their own list\n",
    "#and changing dead cells to -1 so one could flag the spot and still use it for determining \n",
    "#the life and death conditions of other cells via abs() without zero-ing it out and flagging reproduction to \n",
    "#2 \n",
    "#https://leetcode.com/problems/game-of-life/discuss/1937863/Python-O(1)-space-O(m*n)-time-take-advantage-of-1's\n",
    "          "
   ]
  },
  {
   "cell_type": "code",
   "execution_count": null,
   "metadata": {},
   "outputs": [],
   "source": []
  }
 ],
 "metadata": {
  "interpreter": {
   "hash": "e7370f93d1d0cde622a1f8e1c04877d8463912d04d973331ad4851f04de6915a"
  },
  "kernelspec": {
   "display_name": "Python 3.10.2 64-bit",
   "language": "python",
   "name": "python3"
  },
  "language_info": {
   "codemirror_mode": {
    "name": "ipython",
    "version": 3
   },
   "file_extension": ".py",
   "mimetype": "text/x-python",
   "name": "python",
   "nbconvert_exporter": "python",
   "pygments_lexer": "ipython3",
   "version": "3.10.2"
  },
  "orig_nbformat": 4
 },
 "nbformat": 4,
 "nbformat_minor": 2
}
