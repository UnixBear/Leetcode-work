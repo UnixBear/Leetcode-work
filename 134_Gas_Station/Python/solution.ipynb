{
 "cells": [
  {
   "cell_type": "code",
   "execution_count": 49,
   "metadata": {},
   "outputs": [],
   "source": [
    "from typing import List\n",
    "class Solution:\n",
    "    def canCompleteCircuit(self, gas: List[int], cost: List[int]) -> int:\n",
    "        if sum(gas) < sum(cost):\n",
    "            return -1\n",
    "        totalGas = 0\n",
    "        totalCost = 0\n",
    "        tracker = 0\n",
    "        for (index,value) in enumerate(gas):\n",
    "            totalGas += value\n",
    "            totalCost += cost[index]\n",
    "            if totalCost > totalGas:\n",
    "                totalGas = 0\n",
    "                totalCost = 0\n",
    "                tracker = (index + 1) % len(gas)\n",
    "        return tracker\n"
   ]
  },
  {
   "cell_type": "code",
   "execution_count": 50,
   "metadata": {},
   "outputs": [
    {
     "data": {
      "text/plain": [
       "3"
      ]
     },
     "execution_count": 50,
     "metadata": {},
     "output_type": "execute_result"
    }
   ],
   "source": [
    "test = Solution()\n",
    "gas = [1,2,3,4,5]\n",
    "cost = [3,4,5,1,2]\n",
    "test.canCompleteCircuit(gas,cost)\n",
    "#test.findOptimishStartingPoint(gas,cost)"
   ]
  },
  {
   "cell_type": "markdown",
   "metadata": {},
   "source": [
    "#RETIRED \n",
    "from typing import List\n",
    "class Solution:\n",
    "    def canCompleteCircuit(self, gas: List[int], cost: List[int]) -> int:\n",
    "        iterationTrcker = 0\n",
    "        location = self.findOptimishStartingPoint(gas, cost)\n",
    "        carTank = gas[location]\n",
    "        while True:\n",
    "            iterationTrcker += 1\n",
    "            print(f\"START LOOP ## car tank: {carTank}    location index: {location}\")\n",
    "            carTank -= cost[location]\n",
    "            if carTank < 0:\n",
    "                if iterationTrcker < len(gas)+1:\n",
    "                    return -1\n",
    "                return location\n",
    "            location = (location + 1) % len(gas)\n",
    "            print(f\"END LOOP car tank: {carTank}    location index: {location}\")\n",
    "\n",
    "            carTank += gas[location]\n",
    "            \n",
    "        return location\n",
    "\n",
    "    def findOptimishStartingPoint(self, gas: List[int], cost: List[int]) -> int:\n",
    "        tracker = 0\n",
    "        for i in range(len(gas)-1, -1, -1):\n",
    "            if gas[tracker]-cost[tracker] <= gas[i]-cost[i]:\n",
    "                tracker = i\n",
    "        if gas[tracker] < cost[tracker]:\n",
    "            tracker = -1\n",
    "        return tracker\n",
    "\n"
   ]
  }
 ],
 "metadata": {
  "kernelspec": {
   "display_name": "Python 3",
   "language": "python",
   "name": "python3"
  },
  "language_info": {
   "codemirror_mode": {
    "name": "ipython",
    "version": 3
   },
   "file_extension": ".py",
   "mimetype": "text/x-python",
   "name": "python",
   "nbconvert_exporter": "python",
   "pygments_lexer": "ipython3",
   "version": "3.11.6"
  }
 },
 "nbformat": 4,
 "nbformat_minor": 2
}
