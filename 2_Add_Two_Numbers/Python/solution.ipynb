{
 "cells": [
  {
   "cell_type": "code",
   "execution_count": 9,
   "metadata": {},
   "outputs": [],
   "source": [
    "from typing import Optional\n",
    "import math\n",
    " \n",
    "class ListNode:\n",
    "    def __init__(self, val=0, next=None):\n",
    "        self.val = val\n",
    "        self.next = next\n",
    "        \n",
    "        \n",
    "class Solution:\n",
    "    def addTwoNumbers(self, l1: Optional[ListNode], l2: Optional[ListNode]) -> Optional[ListNode]:\n",
    "        sum = self.numberBuilder(l1) + self.numberBuilder(l2)\n",
    "        digits = self.getDigitCount(sum)\n",
    "        sum = list(str(sum))[::-1]\n",
    "        return self.nodespooler(sum, digits)\n",
    "          \n",
    "    def nodespooler(self,sum, dig:int):\n",
    "        if dig == 0:\n",
    "            return None\n",
    "        else:\n",
    "            return ListNode(int(sum.pop(0)), self.nodespooler(sum, dig-1))\n",
    "        \n",
    "    def numberBuilder(self, linList: ListNode) -> int:\n",
    "        num = 0\n",
    "        numPos = 1\n",
    "        while linList != None:\n",
    "            num += numPos*linList.val\n",
    "            linList = linList.next\n",
    "            numPos *= 10\n",
    "        return num\n",
    "    \n",
    "    def getDigitCount(self, num:int) -> int:\n",
    "        if num == 0:\n",
    "            return 1\n",
    "        elif num > 0:\n",
    "            return math.floor(math.log10(num)) + 1"
   ]
  },
  {
   "cell_type": "code",
   "execution_count": 10,
   "metadata": {},
   "outputs": [
    {
     "data": {
      "text/plain": [
       "321"
      ]
     },
     "execution_count": 10,
     "metadata": {},
     "output_type": "execute_result"
    }
   ],
   "source": [
    "temp = ListNode(1, ListNode(2, ListNode(3)))\n",
    "test = Solution()\n",
    "test.numberBuilder(temp)"
   ]
  },
  {
   "cell_type": "code",
   "execution_count": 11,
   "metadata": {},
   "outputs": [],
   "source": [
    "node = test.addTwoNumbers(temp, temp)"
   ]
  },
  {
   "cell_type": "code",
   "execution_count": 12,
   "metadata": {},
   "outputs": [
    {
     "data": {
      "text/plain": [
       "246"
      ]
     },
     "execution_count": 12,
     "metadata": {},
     "output_type": "execute_result"
    }
   ],
   "source": [
    "node"
   ]
  },
  {
   "cell_type": "code",
   "execution_count": null,
   "metadata": {},
   "outputs": [],
   "source": []
  },
  {
   "cell_type": "code",
   "execution_count": null,
   "metadata": {},
   "outputs": [],
   "source": []
  }
 ],
 "metadata": {
  "kernelspec": {
   "display_name": "Python 3",
   "language": "python",
   "name": "python3"
  },
  "language_info": {
   "codemirror_mode": {
    "name": "ipython",
    "version": 3
   },
   "file_extension": ".py",
   "mimetype": "text/x-python",
   "name": "python",
   "nbconvert_exporter": "python",
   "pygments_lexer": "ipython3",
   "version": "3.8.10"
  }
 },
 "nbformat": 4,
 "nbformat_minor": 2
}
