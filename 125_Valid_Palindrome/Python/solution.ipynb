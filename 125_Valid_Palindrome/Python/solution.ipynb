{
 "cells": [
  {
   "cell_type": "code",
   "execution_count": 17,
   "metadata": {},
   "outputs": [],
   "source": [
    "import re\n",
    "# using regex for a simple substitution\n",
    "class Solution:\n",
    "    def isPalindrome(self, s: str) -> bool:\n",
    "        result =  re.sub('[\\W_]+', '', s).lower()\n",
    "        # [] means matches a single character\n",
    "        # []+ means keep one or more of the inner condition\n",
    "        # [W]+ means match with one or more alphanumeric characters + underscore\n",
    "        # [/W]+ means match with one or more non-alphanumeric characters or non underscores\n",
    "        # [/W_]+ means match with one or more non-alphanumeric characters or underscores\n",
    "        # note: the underscore is typically captured by W but we want most non W's and underscores\n",
    "\n",
    "        if result == result[::-1]:\n",
    "            return True\n",
    "        else:\n",
    "            return False\n",
    "\n",
    "        "
   ]
  },
  {
   "cell_type": "code",
   "execution_count": 18,
   "metadata": {},
   "outputs": [
    {
     "data": {
      "text/plain": [
       "True"
      ]
     },
     "execution_count": 18,
     "metadata": {},
     "output_type": "execute_result"
    }
   ],
   "source": [
    "temp = Solution()\n",
    "test = \"A man, a plan, a canal: Panama\"\n",
    "temp.isPalindrome(test)"
   ]
  },
  {
   "cell_type": "code",
   "execution_count": null,
   "metadata": {},
   "outputs": [],
   "source": []
  }
 ],
 "metadata": {
  "kernelspec": {
   "display_name": "Python 3",
   "language": "python",
   "name": "python3"
  },
  "language_info": {
   "codemirror_mode": {
    "name": "ipython",
    "version": 3
   },
   "file_extension": ".py",
   "mimetype": "text/x-python",
   "name": "python",
   "nbconvert_exporter": "python",
   "pygments_lexer": "ipython3",
   "version": "3.11.8"
  }
 },
 "nbformat": 4,
 "nbformat_minor": 2
}
