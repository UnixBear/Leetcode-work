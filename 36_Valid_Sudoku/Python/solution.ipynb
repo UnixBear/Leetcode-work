{
 "cells": [
  {
   "cell_type": "code",
   "execution_count": 16,
   "metadata": {},
   "outputs": [],
   "source": [
    "from typing import List\n",
    "class Solution:\n",
    "    def isValidSudoku(self, board: List[List[str]]) -> bool:\n",
    "        rows = [set() for _ in range(9)]\n",
    "        col = [set() for _ in range(9)]\n",
    "        sbox = [set() for _ in range(9)]\n",
    "\n",
    "        for i in range(9):\n",
    "            for j in range(9):\n",
    "                num = board[i][j]\n",
    "                if num == \".\":\n",
    "                    continue\n",
    "                box_index = (i//3) * 3 + j//3 \n",
    "                if (num in rows[i]) or (num in col[j]) or (num in sbox[box_index]):\n",
    "                    return False\n",
    "                rows[i].add(num)\n",
    "                col[j].add(num)\n",
    "                sbox[box_index].add(num)\n",
    "        return True"
   ]
  },
  {
   "cell_type": "code",
   "execution_count": 13,
   "metadata": {},
   "outputs": [
    {
     "data": {
      "text/plain": [
       "True"
      ]
     },
     "execution_count": 13,
     "metadata": {},
     "output_type": "execute_result"
    }
   ],
   "source": [
    "test = Solution()\n",
    "testcase = [[1,2,3,4,5,6], [5,4,3,2,1],[5,4,3,2,1],[5,4,3,2,1],[5,4,3,2,1],[5,4,3,2,1],[5,4,3,2,1],[5,4,3,2,1],[5,4,3,2,1]] \n",
    "\n",
    "test.isValidSudoku(testcase)"
   ]
  },
  {
   "cell_type": "code",
   "execution_count": null,
   "metadata": {},
   "outputs": [],
   "source": []
  }
 ],
 "metadata": {
  "kernelspec": {
   "display_name": "Python 3",
   "language": "python",
   "name": "python3"
  },
  "language_info": {
   "codemirror_mode": {
    "name": "ipython",
    "version": 3
   },
   "file_extension": ".py",
   "mimetype": "text/x-python",
   "name": "python",
   "nbconvert_exporter": "python",
   "pygments_lexer": "ipython3",
   "version": "3.11.6"
  }
 },
 "nbformat": 4,
 "nbformat_minor": 2
}
