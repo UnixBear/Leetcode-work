{
 "cells": [
  {
   "cell_type": "markdown",
   "metadata": {},
   "source": [
    "This one is thanks to the youtuber vanAmsen for an interesting techinique making a set up tuples from a list like [a,b,c,d,e,...] to [(a,b), (b,c), (c,d),...]. We also have 3 tracker variables that track whether we have a streak of going up and when we don't we reset and with every iteration through the tuples, we compare LHS vs RHS to see if we're getting as streak."
   ]
  },
  {
   "cell_type": "code",
   "execution_count": null,
   "metadata": {},
   "outputs": [],
   "source": [
    "from typing import List\n",
    "class Solution:\n",
    "    def candy(self, ratings: List[int]) -> int:\n",
    "        if ratings == []:\n",
    "            return 0\n",
    "        \n",
    "        ret, up, down, peak = 1,0,0,0\n",
    "        for previous, current in zip(ratings[:-1], ratings[1:]):\n",
    "            if previous < current:\n",
    "                up,down, peak = up+1, 0, up+1\n",
    "                ret += 1 + up\n",
    "            elif previous == current:\n",
    "                up = down = peak = 0\n",
    "                ret += 1\n",
    "            else:\n",
    "                up, down = 0, down+1\n",
    "                ret += 1 + down - int(peak >= down)\n",
    "        return ret\n",
    "\n",
    "        \n",
    "        "
   ]
  }
 ],
 "metadata": {
  "language_info": {
   "name": "python"
  }
 },
 "nbformat": 4,
 "nbformat_minor": 2
}
