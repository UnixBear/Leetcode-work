{
 "cells": [
  {
   "cell_type": "code",
   "execution_count": 56,
   "metadata": {},
   "outputs": [],
   "source": [
    "from typing import List\n",
    "class Solution:\n",
    "    def intToRoman(self, num: int) -> str:\n",
    "        numerals = [\n",
    "            (1000, \"M\"), (900, \"CM\"), (500, \"D\"), (400, \"CD\"),\n",
    "            (100, \"C\"), (90, \"XC\"), (50, \"L\"), (40, \"XL\"),\n",
    "            (10, \"X\"), (9, \"IX\"), (5, \"V\"), (4, \"IV\"), (1, \"I\")\n",
    "        ]\n",
    "        parts = []\n",
    "        for value,symbol in numerals:\n",
    "            count,num = divmod(num,value)\n",
    "            parts.extend([symbol]*count)\n",
    "        return ''.join(parts)"
   ]
  },
  {
   "cell_type": "code",
   "execution_count": 57,
   "metadata": {},
   "outputs": [
    {
     "name": "stdout",
     "output_type": "stream",
     "text": [
      "MMM\n",
      "LVIII\n",
      "MCMXCIV\n"
     ]
    }
   ],
   "source": [
    "sol = Solution()\n",
    "print(sol.intToRoman(3000))\n",
    "print(sol.intToRoman(58))\n",
    "print(sol.intToRoman(1994))\n"
   ]
  },
  {
   "cell_type": "markdown",
   "metadata": {},
   "source": [
    "RETIRED\n",
    "from typing import List\n",
    "class Solution:\n",
    "    def intToRoman(self, num: int) -> str:\n",
    "        answer = \"\"\n",
    "        while num > 0:\n",
    "            if num >= 1000:\n",
    "                quo, rem = divmod(num, 1000)\n",
    "                num = rem\n",
    "                answer = answer + (\"M\"*quo)\n",
    "\n",
    "\n",
    "            if num >= 900:\n",
    "                quo, rem = divmod(num,900)\n",
    "                num = rem\n",
    "                answer = answer + \"CM\"\n",
    "            elif num < 500 and num > 399:\n",
    "                quo, rem = divmod(num, 400)\n",
    "                num = rem\n",
    "                answer = answer + \"CD\"\n",
    "            else:\n",
    "                quo,rem = divmod(num,500)\n",
    "                num = rem\n",
    "                answer = answer + (\"D\" * quo)\n",
    "            print(num)\n",
    "            if num >= 100:\n",
    "                quo, rem = divmod(num,100)\n",
    "                num = rem\n",
    "                answer = answer + (\"C\"*quo)\n",
    "\n",
    "\n",
    "            if num < 100 and num >= 90:\n",
    "                quo, rem = divmod(num,90)\n",
    "                num = rem\n",
    "                answer = answer + \"XC\"\n",
    "            if num >= 50:\n",
    "                quo, rem = divmod(num,50)\n",
    "                num = rem\n",
    "                answer = answer + (\"L\"*quo)\n",
    "            if num < 50 and num >= 40:\n",
    "                quo, rem = divmod(num,40)\n",
    "                num = rem\n",
    "                answer = answer + \"XL\"\n",
    "            if num >= 10:\n",
    "                quo, rem = divmod(num,10)\n",
    "                num = rem\n",
    "                answer = answer + (\"X\"*quo)\n",
    "            if num == 9:\n",
    "                quo, rem = divmod(num,9)\n",
    "                num = rem\n",
    "                answer = answer + \"IX\"\n",
    "            if num >= 5:\n",
    "                quo, rem = divmod(num,5)\n",
    "                num = rem\n",
    "                answer = answer + (\"V\"*quo)\n",
    "            if num < 5:\n",
    "                if num == 4:\n",
    "                    answer = answer + \"IV\"\n",
    "                else:\n",
    "                    answer = answer + (\"I\"*num)\n",
    "                return answer\n",
    "        return answer\n"
   ]
  },
  {
   "cell_type": "markdown",
   "metadata": {},
   "source": []
  }
 ],
 "metadata": {
  "kernelspec": {
   "display_name": "Python 3",
   "language": "python",
   "name": "python3"
  },
  "language_info": {
   "codemirror_mode": {
    "name": "ipython",
    "version": 3
   },
   "file_extension": ".py",
   "mimetype": "text/x-python",
   "name": "python",
   "nbconvert_exporter": "python",
   "pygments_lexer": "ipython3",
   "version": "3.11.6"
  }
 },
 "nbformat": 4,
 "nbformat_minor": 2
}
