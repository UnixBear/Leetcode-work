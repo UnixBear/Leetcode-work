{
 "cells": [
  {
   "cell_type": "markdown",
   "metadata": {},
   "source": [
    "We are playing the Guess Game. The game is as follows:\n",
    "\n",
    "I pick a number from 1 to n. You have to guess which number I picked.\n",
    "\n",
    "Every time you guess wrong, I will tell you whether the number I picked is higher or lower than your guess.\n",
    "\n",
    "You call a pre-defined API int guess(int num), which returns three possible results:\n",
    "\n",
    "-1: Your guess is higher than the number I picked (i.e. num > pick).\n",
    "1: Your guess is lower than the number I picked (i.e. num < pick).\n",
    "0: your guess is equal to the number I picked (i.e. num == pick).\n",
    "Return the number that I picked.\n",
    "\n",
    "### Constraints\n",
    "\n",
    "1 <= n <= 2^31 - 1\n",
    "\n",
    "1 <= pick <= n"
   ]
  },
  {
   "cell_type": "code",
   "execution_count": 2,
   "metadata": {},
   "outputs": [],
   "source": [
    "# The guess API is already defined for you.\n",
    "# @param num, your guess\n",
    "# @return -1 if num is higher than the picked number\n",
    "#          1 if num is lower than the picked number\n",
    "#          otherwise return 0\n",
    "# def guess(num: int) -> int:\n",
    "\n",
    "#The solution will be a simple binary search, in which\n",
    "#we start with our lower bound as one (given by our constraint)\n",
    "#and our upper bound will be n. Since we get whether our guess\n",
    "#is lower or higher than the correct number, we can adjust our\n",
    "#bounds depending on the direction of correctness\n",
    "\n",
    "class Solution:\n",
    "    def guessNumber(self, n: int) -> int:\n",
    "        lowerBound = 1\n",
    "        upperBound = n\n",
    "        while lowerBound <= upperBound:\n",
    "            midpointGuess = ((upperBound - lowerBound) // 2) + lowerBound\n",
    "            result = guess(midpointGuess)\n",
    "            if result == 0:\n",
    "                return midpointGuess\n",
    "            if result == 1:\n",
    "                    lowerBound = midpointGuess + 1\n",
    "            if result == -1:\n",
    "                    upperBound = midpointGuess - 1\n",
    "        "
   ]
  }
 ],
 "metadata": {
  "interpreter": {
   "hash": "e7370f93d1d0cde622a1f8e1c04877d8463912d04d973331ad4851f04de6915a"
  },
  "kernelspec": {
   "display_name": "Python 3.10.2 64-bit",
   "language": "python",
   "name": "python3"
  },
  "language_info": {
   "codemirror_mode": {
    "name": "ipython",
    "version": 3
   },
   "file_extension": ".py",
   "mimetype": "text/x-python",
   "name": "python",
   "nbconvert_exporter": "python",
   "pygments_lexer": "ipython3",
   "version": "3.10.4"
  },
  "orig_nbformat": 4
 },
 "nbformat": 4,
 "nbformat_minor": 2
}
