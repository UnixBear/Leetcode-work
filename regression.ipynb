%matplotlib inline
import matplotlib.pyplot as plt
import pandas as pd

columns = ['carat', 'cut', 'price']

data = [[0.3, 'Ideal', 422],
        [0.31, 'Ideal', 489],
        [0.42, 'Premium', 737],
        [0.5, 'Ideal', 1415],
        [0.51, 'Premium', 1177],
        [0.7, 'Fair', 1865],
        [0.73, 'Fair', 2351],
        [1.01, 'Good', 3768],
        [1.18, 'Very Good', 3965],
        [1.18, 'Ideal', 4838]]

train = pd.DataFrame(data=data, columns=columns)

plt.style.use('fivethirtyeight')
train.plot.scatter(x='carat', y='price', s=50);