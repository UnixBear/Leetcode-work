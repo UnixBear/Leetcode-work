{
 "cells": [
  {
   "cell_type": "code",
   "execution_count": 2,
   "metadata": {},
   "outputs": [],
   "source": [
    "from typing import List\n",
    "class Solution:\n",
    "    def canJump(self, nums: List[int]) -> bool:\n",
    "        maxReach = nums[0]\n",
    "        destination = len(nums)-1\n",
    "        for i in range(1,len(nums)):\n",
    "            if i>maxReach:\n",
    "                return False\n",
    "            maxReach = max(maxReach, i + nums[i])\n",
    "            if maxReach >= destination:\n",
    "                return True\n",
    "        return maxReach >= destination\n"
   ]
  },
  {
   "cell_type": "code",
   "execution_count": 11,
   "metadata": {},
   "outputs": [
    {
     "data": {
      "text/plain": [
       "True"
      ]
     },
     "execution_count": 11,
     "metadata": {},
     "output_type": "execute_result"
    }
   ],
   "source": [
    "ecase = [5,2,0,0,0,1,1]\n",
    "tcase = [2,3,1,1,4]\n",
    "\n",
    "test = Solution()\n",
    "test.canJump(ecase)\n"
   ]
  },
  {
   "cell_type": "markdown",
   "metadata": {},
   "source": [
    "RETIRED\n",
    "\n",
    "        destination = len(nums) - 1\n",
    "        current = 0\n",
    "        if len(nums) <= 1:\n",
    "            return True\n",
    "        while current < destination:\n",
    "            max_val = -1\n",
    "            max_index = -1\n",
    "            for index, value in enumerate(nums[current:current+nums[current]+1]):\n",
    "                if value > max_val:\n",
    "                    max_val = value\n",
    "                    max_index = current + index\n",
    "            if max_val + current >= destination:\n",
    "                return True\n",
    "            else:\n",
    "                current = max_index\n",
    "            if current == 0 and current != destination:\n",
    "                return False\n",
    "\n",
    "class Solution:\n",
    "    def canJump(self, nums: List[int]) -> bool:\n",
    "        destination = len(nums)-1\n",
    "        return True\n",
    "        #memo table\n",
    "        memo = {}\n",
    "        def canReachEnd(self, index)-> bool:\n",
    "            if index == destination:\n",
    "                return True\n",
    "            if index in memo:\n",
    "                return memo[index]\n",
    "\n",
    "            #finding maximum distance that can be jumped from current position\n",
    "            maxJump = min(index + nums[index], destination)\n",
    "\n",
    "            for jump in range (index + 1, maxJump + 1):\n",
    "                if canReachEnd(jump):\n",
    "                    memo[index] = True\n",
    "                    return True\n",
    "            memo[index]=False\n",
    "            return False\n",
    "        return canReachEnd(0)\n"
   ]
  }
 ],
 "metadata": {
  "kernelspec": {
   "display_name": "Python 3",
   "language": "python",
   "name": "python3"
  },
  "language_info": {
   "codemirror_mode": {
    "name": "ipython",
    "version": 3
   },
   "file_extension": ".py",
   "mimetype": "text/x-python",
   "name": "python",
   "nbconvert_exporter": "python",
   "pygments_lexer": "ipython3",
   "version": "3.11.6"
  }
 },
 "nbformat": 4,
 "nbformat_minor": 2
}
