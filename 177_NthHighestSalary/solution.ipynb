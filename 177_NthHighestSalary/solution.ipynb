{
 "cells": [
  {
   "cell_type": "code",
   "execution_count": 141,
   "metadata": {},
   "outputs": [],
   "source": [
    "import pandas as pd\n",
    "import numpy as np\n",
    "def nth_highest_salary(employee: pd.DataFrame, N: int) -> pd.DataFrame:\n",
    "    if N > len(employee) or N == 0:\n",
    "        return pd.DataFrame({f'getNthHighestSalary({N})': [np.nan]})\n",
    "    salaries = employee.drop_duplicates(subset='salary')\n",
    "    if len(employee) == 1:\n",
    "        return pd.DataFrame({f'getNthHighestSalary({N})': [salaries.nlargest(N, 'salary').iloc[-1]['salary']]})\n",
    "    if salaries.nlargest(N,'salary').iloc[-1]['salary'] == salaries.nlargest(N,'salary').iloc[-2]['salary']:\n",
    "        return pd.DataFrame({f'getNthHighestSalary({N})': [np.nan]})\n",
    "    return pd.DataFrame({f'getNthHighestSalary({N})': [salaries.nlargest(N, 'salary').iloc[-1]['salary']]})"
   ]
  },
  {
   "cell_type": "code",
   "execution_count": 68,
   "metadata": {},
   "outputs": [],
   "source": [
    "data = {\n",
    "    'id': [1, 2, 3, 4, 5, 6],\n",
    "    'salary': [50000, 75000, 60000, 80000, 70000, 80000]\n",
    "}\n",
    "employee = pd.DataFrame(data)"
   ]
  },
  {
   "cell_type": "code",
   "execution_count": 135,
   "metadata": {},
   "outputs": [
    {
     "name": "stdout",
     "output_type": "stream",
     "text": [
      "   getNthHighestSalary(2)\n",
      "0                   75000\n"
     ]
    }
   ],
   "source": [
    "print(nth_highest_salary(employee=employee, N=2))"
   ]
  },
  {
   "cell_type": "code",
   "execution_count": 143,
   "metadata": {},
   "outputs": [],
   "source": [
    "data2 = {\n",
    "    'id': [1,2],\n",
    "    'salary': [100,100]\n",
    "}\n",
    "employee2 = pd.DataFrame(data2)"
   ]
  },
  {
   "cell_type": "code",
   "execution_count": 144,
   "metadata": {},
   "outputs": [
    {
     "ename": "IndexError",
     "evalue": "single positional indexer is out-of-bounds",
     "output_type": "error",
     "traceback": [
      "\u001b[0;31m---------------------------------------------------------------------------\u001b[0m",
      "\u001b[0;31mIndexError\u001b[0m                                Traceback (most recent call last)",
      "\u001b[1;32m/home/coder/Projects/Leetcode-work/177_NthHighestSalary/solution.ipynb Cell 5\u001b[0m line \u001b[0;36m1\n\u001b[0;32m----> <a href='vscode-notebook-cell:/home/coder/Projects/Leetcode-work/177_NthHighestSalary/solution.ipynb#W2sZmlsZQ%3D%3D?line=0'>1</a>\u001b[0m nth_highest_salary(employee\u001b[39m=\u001b[39;49memployee2, N\u001b[39m=\u001b[39;49m\u001b[39m1\u001b[39;49m)\n",
      "\u001b[1;32m/home/coder/Projects/Leetcode-work/177_NthHighestSalary/solution.ipynb Cell 5\u001b[0m line \u001b[0;36m9\n\u001b[1;32m      <a href='vscode-notebook-cell:/home/coder/Projects/Leetcode-work/177_NthHighestSalary/solution.ipynb#W2sZmlsZQ%3D%3D?line=6'>7</a>\u001b[0m \u001b[39mif\u001b[39;00m \u001b[39mlen\u001b[39m(employee) \u001b[39m==\u001b[39m \u001b[39m1\u001b[39m:\n\u001b[1;32m      <a href='vscode-notebook-cell:/home/coder/Projects/Leetcode-work/177_NthHighestSalary/solution.ipynb#W2sZmlsZQ%3D%3D?line=7'>8</a>\u001b[0m     \u001b[39mreturn\u001b[39;00m pd\u001b[39m.\u001b[39mDataFrame({\u001b[39mf\u001b[39m\u001b[39m'\u001b[39m\u001b[39mgetNthHighestSalary(\u001b[39m\u001b[39m{\u001b[39;00mN\u001b[39m}\u001b[39;00m\u001b[39m)\u001b[39m\u001b[39m'\u001b[39m: [salaries\u001b[39m.\u001b[39mnlargest(N, \u001b[39m'\u001b[39m\u001b[39msalary\u001b[39m\u001b[39m'\u001b[39m)\u001b[39m.\u001b[39miloc[\u001b[39m-\u001b[39m\u001b[39m1\u001b[39m][\u001b[39m'\u001b[39m\u001b[39msalary\u001b[39m\u001b[39m'\u001b[39m]]})\n\u001b[0;32m----> <a href='vscode-notebook-cell:/home/coder/Projects/Leetcode-work/177_NthHighestSalary/solution.ipynb#W2sZmlsZQ%3D%3D?line=8'>9</a>\u001b[0m \u001b[39mif\u001b[39;00m salaries\u001b[39m.\u001b[39mnlargest(N,\u001b[39m'\u001b[39m\u001b[39msalary\u001b[39m\u001b[39m'\u001b[39m)\u001b[39m.\u001b[39miloc[\u001b[39m-\u001b[39m\u001b[39m1\u001b[39m][\u001b[39m'\u001b[39m\u001b[39msalary\u001b[39m\u001b[39m'\u001b[39m] \u001b[39m==\u001b[39m salaries\u001b[39m.\u001b[39;49mnlargest(N,\u001b[39m'\u001b[39;49m\u001b[39msalary\u001b[39;49m\u001b[39m'\u001b[39;49m)\u001b[39m.\u001b[39;49miloc[\u001b[39m-\u001b[39;49m\u001b[39m2\u001b[39;49m][\u001b[39m'\u001b[39m\u001b[39msalary\u001b[39m\u001b[39m'\u001b[39m]:\n\u001b[1;32m     <a href='vscode-notebook-cell:/home/coder/Projects/Leetcode-work/177_NthHighestSalary/solution.ipynb#W2sZmlsZQ%3D%3D?line=9'>10</a>\u001b[0m     \u001b[39mreturn\u001b[39;00m pd\u001b[39m.\u001b[39mDataFrame({\u001b[39mf\u001b[39m\u001b[39m'\u001b[39m\u001b[39mgetNthHighestSalary(\u001b[39m\u001b[39m{\u001b[39;00mN\u001b[39m}\u001b[39;00m\u001b[39m)\u001b[39m\u001b[39m'\u001b[39m: [np\u001b[39m.\u001b[39mnan]})\n\u001b[1;32m     <a href='vscode-notebook-cell:/home/coder/Projects/Leetcode-work/177_NthHighestSalary/solution.ipynb#W2sZmlsZQ%3D%3D?line=10'>11</a>\u001b[0m \u001b[39mreturn\u001b[39;00m pd\u001b[39m.\u001b[39mDataFrame({\u001b[39mf\u001b[39m\u001b[39m'\u001b[39m\u001b[39mgetNthHighestSalary(\u001b[39m\u001b[39m{\u001b[39;00mN\u001b[39m}\u001b[39;00m\u001b[39m)\u001b[39m\u001b[39m'\u001b[39m: [salaries\u001b[39m.\u001b[39mnlargest(N, \u001b[39m'\u001b[39m\u001b[39msalary\u001b[39m\u001b[39m'\u001b[39m)\u001b[39m.\u001b[39miloc[\u001b[39m-\u001b[39m\u001b[39m1\u001b[39m][\u001b[39m'\u001b[39m\u001b[39msalary\u001b[39m\u001b[39m'\u001b[39m]]})\n",
      "File \u001b[0;32m~/.local/lib/python3.10/site-packages/pandas/core/indexing.py:1153\u001b[0m, in \u001b[0;36m_LocationIndexer.__getitem__\u001b[0;34m(self, key)\u001b[0m\n\u001b[1;32m   1150\u001b[0m axis \u001b[39m=\u001b[39m \u001b[39mself\u001b[39m\u001b[39m.\u001b[39maxis \u001b[39mor\u001b[39;00m \u001b[39m0\u001b[39m\n\u001b[1;32m   1152\u001b[0m maybe_callable \u001b[39m=\u001b[39m com\u001b[39m.\u001b[39mapply_if_callable(key, \u001b[39mself\u001b[39m\u001b[39m.\u001b[39mobj)\n\u001b[0;32m-> 1153\u001b[0m \u001b[39mreturn\u001b[39;00m \u001b[39mself\u001b[39;49m\u001b[39m.\u001b[39;49m_getitem_axis(maybe_callable, axis\u001b[39m=\u001b[39;49maxis)\n",
      "File \u001b[0;32m~/.local/lib/python3.10/site-packages/pandas/core/indexing.py:1714\u001b[0m, in \u001b[0;36m_iLocIndexer._getitem_axis\u001b[0;34m(self, key, axis)\u001b[0m\n\u001b[1;32m   1711\u001b[0m     \u001b[39mraise\u001b[39;00m \u001b[39mTypeError\u001b[39;00m(\u001b[39m\"\u001b[39m\u001b[39mCannot index by location index with a non-integer key\u001b[39m\u001b[39m\"\u001b[39m)\n\u001b[1;32m   1713\u001b[0m \u001b[39m# validate the location\u001b[39;00m\n\u001b[0;32m-> 1714\u001b[0m \u001b[39mself\u001b[39;49m\u001b[39m.\u001b[39;49m_validate_integer(key, axis)\n\u001b[1;32m   1716\u001b[0m \u001b[39mreturn\u001b[39;00m \u001b[39mself\u001b[39m\u001b[39m.\u001b[39mobj\u001b[39m.\u001b[39m_ixs(key, axis\u001b[39m=\u001b[39maxis)\n",
      "File \u001b[0;32m~/.local/lib/python3.10/site-packages/pandas/core/indexing.py:1647\u001b[0m, in \u001b[0;36m_iLocIndexer._validate_integer\u001b[0;34m(self, key, axis)\u001b[0m\n\u001b[1;32m   1645\u001b[0m len_axis \u001b[39m=\u001b[39m \u001b[39mlen\u001b[39m(\u001b[39mself\u001b[39m\u001b[39m.\u001b[39mobj\u001b[39m.\u001b[39m_get_axis(axis))\n\u001b[1;32m   1646\u001b[0m \u001b[39mif\u001b[39;00m key \u001b[39m>\u001b[39m\u001b[39m=\u001b[39m len_axis \u001b[39mor\u001b[39;00m key \u001b[39m<\u001b[39m \u001b[39m-\u001b[39mlen_axis:\n\u001b[0;32m-> 1647\u001b[0m     \u001b[39mraise\u001b[39;00m \u001b[39mIndexError\u001b[39;00m(\u001b[39m\"\u001b[39m\u001b[39msingle positional indexer is out-of-bounds\u001b[39m\u001b[39m\"\u001b[39m)\n",
      "\u001b[0;31mIndexError\u001b[0m: single positional indexer is out-of-bounds"
     ]
    }
   ],
   "source": [
    "nth_highest_salary(employee=employee2, N=1)"
   ]
  },
  {
   "cell_type": "code",
   "execution_count": 104,
   "metadata": {},
   "outputs": [],
   "source": [
    "data = {\n",
    "    'id': [12, 6, 87, 1, 39, 65, 25, 96, 8, 11, 5, 18, 66, 26, 82, 63, 64, 73, 2, 78, 22, 77, 69, 32, 79, 23, 43, 44, 28, 86, 57, 13, 62, 72, 37, 89, 71, 46, 95, 48, 17, 20, 74, 54, 35, 84, 42, 76, 45, 68, 40, 14, 51, 97, 30, 88, 55, 81, 7, 52, 33, 41, 50, 24, 59, 99, 67, 61, 38, 94, 15, 70, 10, 49, 29, 60, 3, 0, 75, 83, 47, 9, 56, 80, 27, 21, 85, 91, 90, 58, 19, 4, 92, 16, 36, 53, 93, 31, 34, 98],\n",
    "    'salary': [761, 1037, 38, 786, 1762, 133, 2529, 403, 4333, 3164, 831, 3579, 4778, 4826, 4957, 1288, 2711, 1842, 2627, 1908, 4667, 199, 576, 2638, 510, 622, 2491, 4435, 4552, 4646, 451, 1852, 2835, 544, 2896, 4699, 220, 2333, 2261, 3210, 398, 57, 176, 4272, 2172, 4686, 2595, 3631, 4022, 3248, 571, 4094, 3272, 2057, 2505, 3805, 4926, 3423, 811, 4664, 1842, 4645, 1490, 3361, 4504, 805, 4561, 4641, 2542, 4361, 1652, 1903, 2109, 1428, 558, 708, 1717, 3162, 1450, 2333, 455, 2360, 1570, 1677, 508, 3994, 2276, 1606, 2269, 1954, 774, 655, 3274, 333, 1744, 2262, 3887, 3521, 1415, 2490]\n",
    "}\n",
    "employee3 = pd.DataFrame(data)\n"
   ]
  },
  {
   "cell_type": "code",
   "execution_count": 121,
   "metadata": {},
   "outputs": [
    {
     "name": "stdout",
     "output_type": "stream",
     "text": [
      "id         47\n",
      "salary    455\n",
      "Name: 80, dtype: int64\n"
     ]
    }
   ],
   "source": [
    "print(nth_highest_salary(employee=employee3, N=88).iloc[-1])"
   ]
  },
  {
   "cell_type": "code",
   "execution_count": 117,
   "metadata": {},
   "outputs": [
    {
     "data": {
      "text/plain": [
       "id         47\n",
       "salary    455\n",
       "Name: 80, dtype: int64"
      ]
     },
     "execution_count": 117,
     "metadata": {},
     "output_type": "execute_result"
    }
   ],
   "source": [
    "employee3.drop_duplicates(subset='salary').nlargest(88, 'salary').iloc[-1]"
   ]
  },
  {
   "cell_type": "markdown",
   "metadata": {},
   "source": [
    "This works by taking the `employee` DataFrame and using a built-in method `nlargest()` to return a row from a sorted version of `employee` that's sorted by max value (descending) and finding the `nth` row and returning the id"
   ]
  }
 ],
 "metadata": {
  "kernelspec": {
   "display_name": "Python 3",
   "language": "python",
   "name": "python3"
  },
  "language_info": {
   "codemirror_mode": {
    "name": "ipython",
    "version": 3
   },
   "file_extension": ".py",
   "mimetype": "text/x-python",
   "name": "python",
   "nbconvert_exporter": "python",
   "pygments_lexer": "ipython3",
   "version": "3.10.12"
  },
  "orig_nbformat": 4
 },
 "nbformat": 4,
 "nbformat_minor": 2
}
