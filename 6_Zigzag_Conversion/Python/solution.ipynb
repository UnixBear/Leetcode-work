{
 "cells": [
  {
   "cell_type": "code",
   "execution_count": 20,
   "metadata": {},
   "outputs": [],
   "source": [
    "class Solution(object):\n",
    "    def convert(self, s, numRows):\n",
    "        if numRows == 1 or numRows >= len(s):\n",
    "            return s\n",
    "        answer = [''] * numRows\n",
    "        currentLine = 0\n",
    "        edgeReached = True\n",
    "        for char in s:\n",
    "            print(f\"answer:{answer} \\n currentLine: {currentLine}\\n edgeReached: {edgeReached}\")\n",
    "            if (currentLine == 0 or currentLine == numRows - 1):\n",
    "                edgeReached = not edgeReached\n",
    "            answer[currentLine] += char\n",
    "            if not edgeReached:\n",
    "                currentLine += 1\n",
    "            else:\n",
    "                currentLine -= 1\n",
    "        return ''.join(answer)\n",
    "    "
   ]
  },
  {
   "cell_type": "code",
   "execution_count": 21,
   "metadata": {},
   "outputs": [
    {
     "name": "stdout",
     "output_type": "stream",
     "text": [
      "answer:['', '', '', ''] \n",
      " currentLine: 0\n",
      " edgeReached: True\n",
      "answer:['P', '', '', ''] \n",
      " currentLine: 1\n",
      " edgeReached: False\n",
      "answer:['P', 'A', '', ''] \n",
      " currentLine: 2\n",
      " edgeReached: False\n",
      "answer:['P', 'A', 'Y', ''] \n",
      " currentLine: 3\n",
      " edgeReached: False\n",
      "answer:['P', 'A', 'Y', 'P'] \n",
      " currentLine: 2\n",
      " edgeReached: True\n",
      "answer:['P', 'A', 'YA', 'P'] \n",
      " currentLine: 1\n",
      " edgeReached: True\n",
      "answer:['P', 'AL', 'YA', 'P'] \n",
      " currentLine: 0\n",
      " edgeReached: True\n",
      "answer:['PI', 'AL', 'YA', 'P'] \n",
      " currentLine: 1\n",
      " edgeReached: False\n",
      "answer:['PI', 'ALS', 'YA', 'P'] \n",
      " currentLine: 2\n",
      " edgeReached: False\n",
      "answer:['PI', 'ALS', 'YAH', 'P'] \n",
      " currentLine: 3\n",
      " edgeReached: False\n",
      "answer:['PI', 'ALS', 'YAH', 'PI'] \n",
      " currentLine: 2\n",
      " edgeReached: True\n",
      "answer:['PI', 'ALS', 'YAHR', 'PI'] \n",
      " currentLine: 1\n",
      " edgeReached: True\n",
      "answer:['PI', 'ALSI', 'YAHR', 'PI'] \n",
      " currentLine: 0\n",
      " edgeReached: True\n",
      "answer:['PIN', 'ALSI', 'YAHR', 'PI'] \n",
      " currentLine: 1\n",
      " edgeReached: False\n"
     ]
    },
    {
     "data": {
      "text/plain": [
       "'PINALSIGYAHRPI'"
      ]
     },
     "execution_count": 21,
     "metadata": {},
     "output_type": "execute_result"
    }
   ],
   "source": [
    "test = Solution()\n",
    "test.convert(\"PAYPALISHIRING\",4)"
   ]
  },
  {
   "cell_type": "code",
   "execution_count": 12,
   "metadata": {},
   "outputs": [],
   "source": [
    "import unittest\n",
    "class testSol (unittest.TestCase):\n",
    "    def setup(self):\n",
    "        self.solution = Solution()\n",
    "    def tests(self):\n",
    "        self.assertEqual(self.solution.convert(\"PAYPALISHIRING\", 3), \"PAHNAPLSIIGYIR\")\n",
    "        self.assertEqual(self.solution.convert(\"PAYPALISHIRING\", 4), \"PINALSIGYAHRPI\")        \n",
    "        self.assertEqual(self.solution.convert(\"A\", 1), \"A\")"
   ]
  },
  {
   "cell_type": "code",
   "execution_count": 14,
   "metadata": {},
   "outputs": [],
   "source": [
    "test = testSol()\n",
    "test.setup()\n",
    "test.tests()"
   ]
  },
  {
   "cell_type": "code",
   "execution_count": null,
   "metadata": {},
   "outputs": [],
   "source": []
  }
 ],
 "metadata": {
  "kernelspec": {
   "display_name": "Python 3",
   "language": "python",
   "name": "python3"
  },
  "language_info": {
   "codemirror_mode": {
    "name": "ipython",
    "version": 3
   },
   "file_extension": ".py",
   "mimetype": "text/x-python",
   "name": "python",
   "nbconvert_exporter": "python",
   "pygments_lexer": "ipython3",
   "version": "3.11.6"
  }
 },
 "nbformat": 4,
 "nbformat_minor": 2
}
