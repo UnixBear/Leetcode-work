{
 "cells": [
  {
   "cell_type": "markdown",
   "metadata": {},
   "source": [
    "You are given an array of integers stones where *stones[i]* is the weight of the ith stone.\n",
    "\n",
    "We are playing a game with the stones. On each turn, we choose the ***heaviest two stones*** and smash them together. Suppose the heaviest two stones have weights x and y with x <= y. The result of this smash is:\n",
    "\n",
    "- If x == y, both stones are destroyed, and\n",
    "- If x != y, the stone of weight x is destroyed, and the stone of weight y has new weight y - x.\n",
    "\n",
    "\n"
   ]
  },
  {
   "cell_type": "markdown",
   "metadata": {},
   "source": [
    "## Example 1"
   ]
  },
  {
   "cell_type": "markdown",
   "metadata": {},
   "source": [
    "`Input: stones = [2,7,4,1,8,1]\n",
    "\n",
    "Output: 1\n",
    "\n",
    "Explanation: \n",
    "\n",
    "We combine 7 and 8 to get 1 so the array converts to [2,4,1,1,1] then,\n",
    "\n",
    "we combine 2 and 4 to get 2 so the array converts to [2,1,1,1] then,\n",
    "\n",
    "we combine 2 and 1 to get 1 so the array converts to [1,1,1] then,\n",
    "\n",
    "we combine 1 and 1 to get 0 so the array converts to [1] then that's the value of the last stone.`"
   ]
  },
  {
   "cell_type": "markdown",
   "metadata": {},
   "source": [
    "## Example 2\n",
    "Example 2:\n",
    "\n",
    "\n",
    "Input: stones = [1]\n",
    "\n",
    "Output: 1\n",
    " \n",
    "\n",
    "Constraints:\n",
    "\n",
    "1 <= stones.length <= 30\n",
    "\n",
    "1 <= stones[i] <= 1000"
   ]
  },
  {
   "cell_type": "code",
   "execution_count": 149,
   "metadata": {},
   "outputs": [],
   "source": [
    "#this is my first attempt at the problem, but it does very poorly in terms of speed and memory usage\n",
    "from typing import List\n",
    "import numpy as np\n",
    "class Solution:\n",
    "    def lastStoneWeight(self, stones: List[int]) -> int:\n",
    "        stones = np.array(stones)\n",
    "        if stones.size > 30 or stones.size == 0:\n",
    "            raise BaseException('bruh:')\n",
    "\n",
    "        while stones.size > 1:\n",
    "            index = np.argmax(stones)\n",
    "            maxnum = max(stones)\n",
    "            stones = np.delete(stones, index)\n",
    "            index2 = np.argmax(stones)\n",
    "            maxnum2 = max(stones)\n",
    "            stones = np.delete(stones, index2)\n",
    "            collision = maxnum-maxnum2\n",
    "            stones = np.append(stones, collision)\n",
    "        return stones[0].item()"
   ]
  },
  {
   "cell_type": "code",
   "execution_count": 148,
   "metadata": {},
   "outputs": [
    {
     "name": "stdout",
     "output_type": "stream",
     "text": [
      "[9, 7, 9, 3, 1, 8, 3, 4, 0, 6]\n"
     ]
    },
    {
     "data": {
      "text/plain": [
       "0"
      ]
     },
     "execution_count": 148,
     "metadata": {},
     "output_type": "execute_result"
    }
   ],
   "source": [
    "temp = Solution\n",
    "temparray = [i for i in np.random.randint(10,size=10)]\n",
    "print(temparray)\n",
    "temp.lastStoneWeight(temp, temparray)\n",
    "\n",
    "\n"
   ]
  }
 ],
 "metadata": {
  "interpreter": {
   "hash": "e7370f93d1d0cde622a1f8e1c04877d8463912d04d973331ad4851f04de6915a"
  },
  "kernelspec": {
   "display_name": "Python 3.10.2 64-bit",
   "language": "python",
   "name": "python3"
  },
  "language_info": {
   "codemirror_mode": {
    "name": "ipython",
    "version": 3
   },
   "file_extension": ".py",
   "mimetype": "text/x-python",
   "name": "python",
   "nbconvert_exporter": "python",
   "pygments_lexer": "ipython3",
   "version": "3.10.2"
  },
  "orig_nbformat": 4
 },
 "nbformat": 4,
 "nbformat_minor": 2
}
