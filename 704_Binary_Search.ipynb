{
 "cells": [
  {
   "cell_type": "markdown",
   "metadata": {},
   "source": [
    "Given an array of integers nums which is sorted in ascending order, and an integer target, write a function to search target in nums. If target exists, then return its index. Otherwise, return -1.\n",
    "\n",
    "You must write an algorithm with O(log n) runtime complexity.\n",
    "\n",
    "## Example 1:\n",
    "\n",
    "Input: nums = [-1,0,3,5,9,12], target = 9\n",
    "Output: 4\n",
    "Explanation: 9 exists in nums and its index is 4\n",
    "\n",
    "## Example 2:\n",
    "Input: nums = [-1,0,3,5,9,12], target = 2\n",
    "Output: -1\n",
    "Explanation: 2 does not exist in nums so return -1"
   ]
  },
  {
   "cell_type": "code",
   "execution_count": 29,
   "metadata": {},
   "outputs": [],
   "source": [
    "from typing import List\n",
    "class Solution:\n",
    "    def search(self, nums: List[int], target: int) -> int:\n",
    "        ''' Recursive version\n",
    "        midpoint = len(nums) // 2\n",
    "        temp = self\n",
    "        if len(nums) == 1:\n",
    "            if nums[midpoint] == target:\n",
    "                return target\n",
    "            else:\n",
    "                return -1\n",
    "        elif nums[midpoint] > target:\n",
    "            return temp.search(nums[0:midpoint],target)\n",
    "        elif nums[midpoint] < target:\n",
    "            return temp.search(nums[midpoint:0],target)\n",
    "            '''\n",
    "        numList = nums\n",
    "        while True:\n",
    "            print(numList)\n",
    "            midpoint = len(numList)//2\n",
    "            if len(numList) == 1:\n",
    "                if numList[0] == target:\n",
    "                    return numList[0]\n",
    "                else:\n",
    "                    return -1\n",
    "            if numList[midpoint]==target:\n",
    "                return target\n",
    "            elif numList[midpoint] < target:\n",
    "                numList = numList[midpoint:len(numList)]\n",
    "            elif numList[midpoint] > target:\n",
    "                numList = numList[0:midpoint]\n"
   ]
  },
  {
   "cell_type": "code",
   "execution_count": 34,
   "metadata": {},
   "outputs": [
    {
     "name": "stdout",
     "output_type": "stream",
     "text": [
      "[-2, 0, 3, 5, 9, 12]\n",
      "[5, 9, 12]\n"
     ]
    },
    {
     "data": {
      "text/plain": [
       "9"
      ]
     },
     "execution_count": 34,
     "metadata": {},
     "output_type": "execute_result"
    }
   ],
   "source": [
    "temp = Solution\n",
    "nl = [-2,0,3,5,9,12]\n",
    "trgt = 9\n",
    "temp.search(temp,nl,trgt)"
   ]
  }
 ],
 "metadata": {
  "interpreter": {
   "hash": "e7370f93d1d0cde622a1f8e1c04877d8463912d04d973331ad4851f04de6915a"
  },
  "kernelspec": {
   "display_name": "Python 3.10.2 64-bit",
   "language": "python",
   "name": "python3"
  },
  "language_info": {
   "codemirror_mode": {
    "name": "ipython",
    "version": 3
   },
   "file_extension": ".py",
   "mimetype": "text/x-python",
   "name": "python",
   "nbconvert_exporter": "python",
   "pygments_lexer": "ipython3",
   "version": "3.10.2"
  },
  "orig_nbformat": 4
 },
 "nbformat": 4,
 "nbformat_minor": 2
}
