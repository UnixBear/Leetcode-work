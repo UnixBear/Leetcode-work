{
 "cells": [
  {
   "cell_type": "code",
   "execution_count": null,
   "metadata": {},
   "outputs": [],
   "source": [
    "from typing import List\n",
    "class Solution:\n",
    "    def trap(self, height: List[int]) -> int:\n",
    "        leftptr, rightptr, answer = 0, len(height)-1, 0\n",
    "        maxLeft, maxRight = 0,0\n",
    "        while leftptr < rightptr:\n",
    "            if height[leftptr] < height[rightptr]:\n",
    "                if height[leftptr] >= maxLeft:\n",
    "                    maxLeft = height[leftptr]\n",
    "                else:\n",
    "                    answer += maxLeft - height[leftptr]\n",
    "                leftptr += 1\n",
    "            else:\n",
    "                if height[rightptr] >= maxRight:\n",
    "                    maxRight = height[rightptr]\n",
    "                else:\n",
    "                    answer += maxRight - height[rightptr]\n",
    "                rightptr -= 1\n",
    "        return answer\n"
   ]
  }
 ],
 "metadata": {
  "language_info": {
   "name": "python"
  }
 },
 "nbformat": 4,
 "nbformat_minor": 2
}
