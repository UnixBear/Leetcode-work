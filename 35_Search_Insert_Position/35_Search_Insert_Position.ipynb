{
 "cells": [
  {
   "cell_type": "markdown",
   "metadata": {},
   "source": [
    "Given a sorted array of distinct integers and a target value, return the index if the target is found. If not, return the index where it would be if it were inserted in order.\n",
    "\n",
    "You must write an algorithm with O(log n) runtime complexity.\n",
    "\n",
    "### Example 1\n",
    "Input: nums = [1,3,5,6], target = 5\n",
    "\n",
    "Output: 2\n",
    "\n",
    "\n",
    "### Example 2\n",
    "Input: nums = [1,3,5,6], target = 2\n",
    "\n",
    "Output: 1\n",
    "\n",
    "\n",
    "### Example 3\n",
    "Input: nums = [1,3,5,6], target = 7\n",
    "\n",
    "Output: 4"
   ]
  },
  {
   "cell_type": "code",
   "execution_count": 9,
   "metadata": {},
   "outputs": [],
   "source": [
    "from typing import List\n",
    "class Solution:\n",
    "    def searchInsert(self, nums: List[int], target: int) -> int:\n",
    "        #define the upper and lower bound that will collapse as we cycle through midpoints of our binary search\n",
    "        upperB = len(nums)-1\n",
    "        lowerB = 0\n",
    "        #this loop will continue to run until our bounds equalize, which will happen \n",
    "        #with each iteration of the while loop since if midpoint/guess is less than the\n",
    "        #target, we make our guess the lower bound and vice versa in the case our\n",
    "        #guess is above the target. Each iteration sees our bounds getting closer\n",
    "        #and our guess being between each adjusted set of bounds\n",
    "        print(upperB,lowerB)\n",
    "        while lowerB <= upperB:\n",
    "            #set our index for our guess by getting the average of the bounds\n",
    "            #and testing the midpoint distance, which gives us the greatest \n",
    "            #probability space to see if we hit our mark\n",
    "            midp = (upperB + lowerB) // 2\n",
    "            guess = nums[midp]\n",
    "            #if our guess is right, we return the index of our guess which midp tracks\n",
    "            if guess == target:\n",
    "                return midp\n",
    "            elif guess >= target:\n",
    "                upperB = midp - 1\n",
    "            elif guess <= target:\n",
    "                lowerB = midp + 1\n",
    "            print(upperB,lowerB)\n",
    "        #if we never get a state where our guess == our target, then we return our lowest bound\n",
    "        #since that's where it would be inserted and the greater numbers would be shifted up and\n",
    "        #it's already shifted up by 1. this gets triggered by the -1 in the if statement for changing\n",
    "        #the upper bound, since it guarantees it will go below the lower bound which ends\n",
    "        #the while loop\n",
    "        return lowerB"
   ]
  },
  {
   "cell_type": "code",
   "execution_count": 12,
   "metadata": {},
   "outputs": [
    {
     "name": "stdout",
     "output_type": "stream",
     "text": [
      "7 0\n",
      "2 0\n",
      "2 2\n",
      "1 2\n"
     ]
    },
    {
     "data": {
      "text/plain": [
       "2"
      ]
     },
     "execution_count": 12,
     "metadata": {},
     "output_type": "execute_result"
    }
   ],
   "source": [
    "nlist = [1,3,5,6,11,12,13,14]\n",
    "trgt = 4\n",
    "temp = Solution()\n",
    "temp.searchInsert(nlist,trgt)"
   ]
  }
 ],
 "metadata": {
  "interpreter": {
   "hash": "e7370f93d1d0cde622a1f8e1c04877d8463912d04d973331ad4851f04de6915a"
  },
  "kernelspec": {
   "display_name": "Python 3.10.2 64-bit",
   "language": "python",
   "name": "python3"
  },
  "language_info": {
   "codemirror_mode": {
    "name": "ipython",
    "version": 3
   },
   "file_extension": ".py",
   "mimetype": "text/x-python",
   "name": "python",
   "nbconvert_exporter": "python",
   "pygments_lexer": "ipython3",
   "version": "3.10.4"
  },
  "orig_nbformat": 4
 },
 "nbformat": 4,
 "nbformat_minor": 2
}
